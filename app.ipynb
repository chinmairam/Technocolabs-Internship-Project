{
 "cells": [
  {
   "cell_type": "code",
   "execution_count": 1,
   "metadata": {},
   "outputs": [],
   "source": [
    "from flask import Flask, render_template, url_for, request\n",
    "import os\n",
    "import pandas as pd\n",
    "import numpy as np\n",
    "import pickle"
   ]
  },
  {
   "cell_type": "code",
   "execution_count": null,
   "metadata": {},
   "outputs": [
    {
     "name": "stdout",
     "output_type": "stream",
     "text": [
      " * Serving Flask app \"__main__\" (lazy loading)\n",
      " * Environment: production\n",
      "   WARNING: This is a development server. Do not use it in a production deployment.\n",
      "   Use a production WSGI server instead.\n",
      " * Debug mode: on\n"
     ]
    },
    {
     "name": "stderr",
     "output_type": "stream",
     "text": [
      " * Running on http://127.0.0.1:5000/ (Press CTRL+C to quit)\n",
      "127.0.0.1 - - [26/Feb/2021 23:45:50] \"\u001b[37mGET / HTTP/1.1\u001b[0m\" 200 -\n",
      "127.0.0.1 - - [26/Feb/2021 23:46:09] \"\u001b[37mPOST /predict HTTP/1.1\u001b[0m\" 200 -\n"
     ]
    },
    {
     "name": "stdout",
     "output_type": "stream",
     "text": [
      "[2, 50, 12500, 98]\n",
      "[array([    2,    50, 12500,    98])]\n",
      "[1]\n",
      "1\n"
     ]
    },
    {
     "name": "stderr",
     "output_type": "stream",
     "text": [
      "127.0.0.1 - - [26/Feb/2021 23:46:12] \"\u001b[37mGET / HTTP/1.1\u001b[0m\" 200 -\n",
      "127.0.0.1 - - [26/Feb/2021 23:46:40] \"\u001b[37mPOST /predict HTTP/1.1\u001b[0m\" 200 -\n"
     ]
    },
    {
     "name": "stdout",
     "output_type": "stream",
     "text": [
      "[4, 4, 1000, 4]\n",
      "[array([   4,    4, 1000,    4])]\n",
      "[0]\n",
      "0\n"
     ]
    },
    {
     "name": "stderr",
     "output_type": "stream",
     "text": [
      "127.0.0.1 - - [26/Feb/2021 23:46:41] \"\u001b[37mGET / HTTP/1.1\u001b[0m\" 200 -\n",
      "127.0.0.1 - - [26/Feb/2021 23:48:57] \"\u001b[37mPOST /predict HTTP/1.1\u001b[0m\" 200 -\n"
     ]
    },
    {
     "name": "stdout",
     "output_type": "stream",
     "text": [
      "[5, 46, 11500, 98]\n",
      "[array([    5,    46, 11500,    98])]\n",
      "[1]\n",
      "1\n"
     ]
    },
    {
     "name": "stderr",
     "output_type": "stream",
     "text": [
      "127.0.0.1 - - [26/Feb/2021 23:48:58] \"\u001b[37mGET / HTTP/1.1\u001b[0m\" 200 -\n"
     ]
    }
   ],
   "source": [
    "app = Flask(__name__)\n",
    "\n",
    "model = pickle.load(open('predict_blood1.pkl', 'rb'))\n",
    "\n",
    "@app.route('/')\n",
    "def home():\n",
    "    return render_template('home.html')\n",
    "\n",
    "# def ValuePredictor(predict_list):\n",
    "#     to_predict = np.array(predict_list).reshape(1,4)\n",
    "#     load_model = pickle.load(open('predict_blood.pkl', 'rb'))\n",
    "#     result = load_model.predict(to_predict)\n",
    "#     return result[0]\n",
    "\n",
    "@app.route('/predict', methods=['POST'])\n",
    "def predict():\n",
    "#     if request.method == 'POST':\n",
    "#         predict_list = request.form.to_dict()\n",
    "#         predict_list = list(predict_list.values())\n",
    "#         predict_list = list(map(float, predict_list))\n",
    "#         print(predict_list)\n",
    "#         result = ValuePredictor(predict_list)\n",
    "#         print(result)\n",
    "#         prediction = str(result)\n",
    "#         print(prediction)\n",
    "#     return render_template(\"predict.html\", prediction=prediction)\n",
    "# #     data1 = request.form['Regency']\n",
    "#     data2 = request.form['Frequency']\n",
    "#     data3 = request.form['Monetary']\n",
    "#     data4 = request.form['Time']\n",
    "#     arr = np.array([[data1, data2, data3, data4]])\n",
    "    int_features = [int(x) for x in request.form.values()]\n",
    "    final = [np.array(int_features)]\n",
    "    print(int_features)\n",
    "    print(final)\n",
    "    predictions = model.predict(final)\n",
    "    print(predictions)\n",
    "    output = predictions[0]\n",
    "    #output = \"{:f}\".format(predictions[0][1])\n",
    "    print(output)\n",
    "    return render_template('predict.html', prediction_text=\"Prediction is {}\".format(output))\n",
    "if __name__ == '__main__':\n",
    "    app.run(debug=True, use_reloader=False)"
   ]
  },
  {
   "cell_type": "code",
   "execution_count": null,
   "metadata": {},
   "outputs": [],
   "source": []
  }
 ],
 "metadata": {
  "kernelspec": {
   "display_name": "Python 3",
   "language": "python",
   "name": "python3"
  },
  "language_info": {
   "codemirror_mode": {
    "name": "ipython",
    "version": 3
   },
   "file_extension": ".py",
   "mimetype": "text/x-python",
   "name": "python",
   "nbconvert_exporter": "python",
   "pygments_lexer": "ipython3",
   "version": "3.8.3"
  }
 },
 "nbformat": 4,
 "nbformat_minor": 4
}
